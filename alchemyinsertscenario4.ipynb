{
 "cells": [
  {
   "cell_type": "code",
   "execution_count": 1,
   "id": "e425faaa",
   "metadata": {},
   "outputs": [
    {
     "name": "stdout",
     "output_type": "stream",
     "text": [
      "Note: you may need to restart the kernel to use updated packages.\n"
     ]
    },
    {
     "name": "stderr",
     "output_type": "stream",
     "text": [
      "ERROR: Could not find a version that satisfies the requirement urllib (from versions: none)\n",
      "ERROR: No matching distribution found for urllib\n",
      "\n",
      "[notice] A new release of pip is available: 24.0 -> 25.1.1\n",
      "[notice] To update, run: python.exe -m pip install --upgrade pip\n"
     ]
    },
    {
     "name": "stdout",
     "output_type": "stream",
     "text": [
      "Requirement already satisfied: pyodbc in c:\\users\\deepak\\appdata\\local\\programs\\python\\python311\\lib\\site-packages (5.2.0)\n",
      "Note: you may need to restart the kernel to use updated packages.\n"
     ]
    },
    {
     "name": "stderr",
     "output_type": "stream",
     "text": [
      "\n",
      "[notice] A new release of pip is available: 24.0 -> 25.1.1\n",
      "[notice] To update, run: python.exe -m pip install --upgrade pip\n"
     ]
    },
    {
     "name": "stdout",
     "output_type": "stream",
     "text": [
      "Requirement already satisfied: sqlalchemy in c:\\users\\deepak\\appdata\\local\\programs\\python\\python311\\lib\\site-packages (2.0.41)\n",
      "Requirement already satisfied: greenlet>=1 in c:\\users\\deepak\\appdata\\local\\programs\\python\\python311\\lib\\site-packages (from sqlalchemy) (3.2.3)\n",
      "Requirement already satisfied: typing-extensions>=4.6.0 in c:\\users\\deepak\\appdata\\roaming\\python\\python311\\site-packages (from sqlalchemy) (4.14.0)\n",
      "Note: you may need to restart the kernel to use updated packages.\n"
     ]
    },
    {
     "name": "stderr",
     "output_type": "stream",
     "text": [
      "\n",
      "[notice] A new release of pip is available: 24.0 -> 25.1.1\n",
      "[notice] To update, run: python.exe -m pip install --upgrade pip\n"
     ]
    }
   ],
   "source": [
    "%pip install urllib\n",
    "%pip install pyodbc\n",
    "%pip install sqlalchemy"
   ]
  },
  {
   "cell_type": "markdown",
   "id": "bd53797c",
   "metadata": {},
   "source": [
    "**Step 1: Define your connection details**"
   ]
  },
  {
   "cell_type": "code",
   "execution_count": 2,
   "id": "b4fef98c",
   "metadata": {},
   "outputs": [],
   "source": [
    "server='DESKTOP-RJ6N7AA\\MSSQLSERVER1'\n",
    "database='python'\n",
    "username='sa'\n",
    "password='1234567890'"
   ]
  },
  {
   "cell_type": "markdown",
   "id": "b5a7dddb",
   "metadata": {},
   "source": [
    "**Step 2: Build the full connection string (ODBC-style)**"
   ]
  },
  {
   "cell_type": "code",
   "execution_count": 3,
   "id": "e045065d",
   "metadata": {},
   "outputs": [
    {
     "name": "stdout",
     "output_type": "stream",
     "text": [
      "%0A++++DRIVER%3D%7BODBC+Driver+17+for+SQL+Server%7D%3B%0A++++SERVER%3DDESKTOP-RJ6N7AA%5CMSSQLSERVER1%3B%0A++++DATABASE%3Dpython%3B%0A++++UID%3Dsa%3B%0A++++PWD%3D1234567890%3B%0A++++TrustServerCertificate%3Dyes%3B%0A\n"
     ]
    }
   ],
   "source": [
    "import urllib\n",
    "\n",
    "ConnectionString = f\"\"\"\n",
    "    DRIVER={{ODBC Driver 17 for SQL Server}};\n",
    "    SERVER={server};\n",
    "    DATABASE={database};\n",
    "    UID={username};\n",
    "    PWD={password};\n",
    "    TrustServerCertificate=yes;\n",
    "\"\"\"\n",
    "# URL-encode the connection string for SQLAlchemy\n",
    "params=urllib.parse.quote_plus(ConnectionString)\n",
    "print(params)"
   ]
  },
  {
   "cell_type": "markdown",
   "id": "c19e78de",
   "metadata": {},
   "source": [
    "**Step 3: Create the SQLAlchemy engine**"
   ]
  },
  {
   "cell_type": "code",
   "execution_count": 4,
   "id": "44b6556e",
   "metadata": {},
   "outputs": [],
   "source": [
    "from sqlalchemy import create_engine\n",
    "\n",
    "engine=create_engine(f\"mssql+pyodbc:///?odbc_connect={params}\")"
   ]
  },
  {
   "cell_type": "markdown",
   "id": "e8b6314e",
   "metadata": {},
   "source": [
    "**Step 4: Insert your CSV using pandas.to_sql()**"
   ]
  },
  {
   "cell_type": "code",
   "execution_count": 5,
   "id": "c95b1a2c",
   "metadata": {},
   "outputs": [
    {
     "data": {
      "text/html": [
       "<div>\n",
       "<style scoped>\n",
       "    .dataframe tbody tr th:only-of-type {\n",
       "        vertical-align: middle;\n",
       "    }\n",
       "\n",
       "    .dataframe tbody tr th {\n",
       "        vertical-align: top;\n",
       "    }\n",
       "\n",
       "    .dataframe thead th {\n",
       "        text-align: right;\n",
       "    }\n",
       "</style>\n",
       "<table border=\"1\" class=\"dataframe\">\n",
       "  <thead>\n",
       "    <tr style=\"text-align: right;\">\n",
       "      <th></th>\n",
       "      <th>transaction_id</th>\n",
       "      <th>customer_id</th>\n",
       "      <th>amount</th>\n",
       "      <th>transaction_date</th>\n",
       "      <th>product_category</th>\n",
       "      <th>payment_method</th>\n",
       "      <th>store_location</th>\n",
       "    </tr>\n",
       "  </thead>\n",
       "  <tbody>\n",
       "    <tr>\n",
       "      <th>0</th>\n",
       "      <td>1</td>\n",
       "      <td>565</td>\n",
       "      <td>2992.470000</td>\n",
       "      <td>2025-03-10 01:20:54</td>\n",
       "      <td>Sports</td>\n",
       "      <td>Debit Card</td>\n",
       "      <td>New York</td>\n",
       "    </tr>\n",
       "    <tr>\n",
       "      <th>1</th>\n",
       "      <td>2</td>\n",
       "      <td>323</td>\n",
       "      <td>2041.870000</td>\n",
       "      <td>2025-01-02 15:24:19</td>\n",
       "      <td>Clothing</td>\n",
       "      <td>Cash</td>\n",
       "      <td>New York</td>\n",
       "    </tr>\n",
       "    <tr>\n",
       "      <th>2</th>\n",
       "      <td>3</td>\n",
       "      <td>398</td>\n",
       "      <td>107.350000</td>\n",
       "      <td>2025-02-16 03:49:01</td>\n",
       "      <td>Beauty</td>\n",
       "      <td>Debit Card</td>\n",
       "      <td>Online</td>\n",
       "    </tr>\n",
       "    <tr>\n",
       "      <th>3</th>\n",
       "      <td>4</td>\n",
       "      <td>19</td>\n",
       "      <td>2532.550126</td>\n",
       "      <td>2025-04-30 15:26:23</td>\n",
       "      <td>Sports</td>\n",
       "      <td>Debit Card</td>\n",
       "      <td>Los Angeles</td>\n",
       "    </tr>\n",
       "    <tr>\n",
       "      <th>4</th>\n",
       "      <td>5</td>\n",
       "      <td>547</td>\n",
       "      <td>3063.280000</td>\n",
       "      <td>2025-06-14 04:28:53</td>\n",
       "      <td>Clothing</td>\n",
       "      <td>PayPal</td>\n",
       "      <td>Los Angeles</td>\n",
       "    </tr>\n",
       "    <tr>\n",
       "      <th>...</th>\n",
       "      <td>...</td>\n",
       "      <td>...</td>\n",
       "      <td>...</td>\n",
       "      <td>...</td>\n",
       "      <td>...</td>\n",
       "      <td>...</td>\n",
       "      <td>...</td>\n",
       "    </tr>\n",
       "    <tr>\n",
       "      <th>995</th>\n",
       "      <td>996</td>\n",
       "      <td>60</td>\n",
       "      <td>712.470000</td>\n",
       "      <td>2025-01-13 14:16:32</td>\n",
       "      <td>Electronics</td>\n",
       "      <td>Debit Card</td>\n",
       "      <td>New York</td>\n",
       "    </tr>\n",
       "    <tr>\n",
       "      <th>996</th>\n",
       "      <td>997</td>\n",
       "      <td>235</td>\n",
       "      <td>2125.180000</td>\n",
       "      <td>2025-06-09 12:37:36</td>\n",
       "      <td>Electronics</td>\n",
       "      <td>PayPal</td>\n",
       "      <td>Chicago</td>\n",
       "    </tr>\n",
       "    <tr>\n",
       "      <th>997</th>\n",
       "      <td>998</td>\n",
       "      <td>669</td>\n",
       "      <td>3069.080000</td>\n",
       "      <td>2025-04-01 19:59:01</td>\n",
       "      <td>Home</td>\n",
       "      <td>PayPal</td>\n",
       "      <td>Los Angeles</td>\n",
       "    </tr>\n",
       "    <tr>\n",
       "      <th>998</th>\n",
       "      <td>999</td>\n",
       "      <td>931</td>\n",
       "      <td>2262.750000</td>\n",
       "      <td>2025-06-08 01:36:01</td>\n",
       "      <td>Clothing</td>\n",
       "      <td>Debit Card</td>\n",
       "      <td>Online</td>\n",
       "    </tr>\n",
       "    <tr>\n",
       "      <th>999</th>\n",
       "      <td>1000</td>\n",
       "      <td>925</td>\n",
       "      <td>4141.440000</td>\n",
       "      <td>2025-05-24 13:39:19</td>\n",
       "      <td>Electronics</td>\n",
       "      <td>PayPal</td>\n",
       "      <td>Online</td>\n",
       "    </tr>\n",
       "  </tbody>\n",
       "</table>\n",
       "<p>1000 rows × 7 columns</p>\n",
       "</div>"
      ],
      "text/plain": [
       "     transaction_id  customer_id       amount     transaction_date  \\\n",
       "0                 1          565  2992.470000  2025-03-10 01:20:54   \n",
       "1                 2          323  2041.870000  2025-01-02 15:24:19   \n",
       "2                 3          398   107.350000  2025-02-16 03:49:01   \n",
       "3                 4           19  2532.550126  2025-04-30 15:26:23   \n",
       "4                 5          547  3063.280000  2025-06-14 04:28:53   \n",
       "..              ...          ...          ...                  ...   \n",
       "995             996           60   712.470000  2025-01-13 14:16:32   \n",
       "996             997          235  2125.180000  2025-06-09 12:37:36   \n",
       "997             998          669  3069.080000  2025-04-01 19:59:01   \n",
       "998             999          931  2262.750000  2025-06-08 01:36:01   \n",
       "999            1000          925  4141.440000  2025-05-24 13:39:19   \n",
       "\n",
       "    product_category payment_method store_location  \n",
       "0             Sports     Debit Card       New York  \n",
       "1           Clothing           Cash       New York  \n",
       "2             Beauty     Debit Card         Online  \n",
       "3             Sports     Debit Card    Los Angeles  \n",
       "4           Clothing         PayPal    Los Angeles  \n",
       "..               ...            ...            ...  \n",
       "995      Electronics     Debit Card       New York  \n",
       "996      Electronics         PayPal        Chicago  \n",
       "997             Home         PayPal    Los Angeles  \n",
       "998         Clothing     Debit Card         Online  \n",
       "999      Electronics         PayPal         Online  \n",
       "\n",
       "[1000 rows x 7 columns]"
      ]
     },
     "execution_count": 5,
     "metadata": {},
     "output_type": "execute_result"
    }
   ],
   "source": [
    "import pandas as pd\n",
    "\n",
    "transaction=pd.read_csv(r\"C:\\Users\\Deepak\\Desktop\\python_practice\\transaction_table_cleaned.csv\")\n",
    "transaction.isna().sum()\n",
    "transaction"
   ]
  },
  {
   "cell_type": "code",
   "execution_count": 6,
   "id": "10bbddca",
   "metadata": {},
   "outputs": [
    {
     "data": {
      "text/plain": [
       "103"
      ]
     },
     "execution_count": 6,
     "metadata": {},
     "output_type": "execute_result"
    }
   ],
   "source": [
    "transaction.to_sql(\"transactions\",con=engine,index=False, if_exists='replace')"
   ]
  },
  {
   "cell_type": "code",
   "execution_count": 7,
   "id": "cd8950da",
   "metadata": {},
   "outputs": [],
   "source": [
    "customers=pd.read_csv(r\"C:\\Users\\Deepak\\Desktop\\python_practice\\customer_data_cleaned.csv\")"
   ]
  },
  {
   "cell_type": "code",
   "execution_count": 8,
   "id": "bd07a39d",
   "metadata": {},
   "outputs": [
    {
     "data": {
      "text/plain": [
       "214"
      ]
     },
     "execution_count": 8,
     "metadata": {},
     "output_type": "execute_result"
    }
   ],
   "source": [
    "customers.to_sql(\"customers\",con=engine,index=False, if_exists='replace')"
   ]
  },
  {
   "cell_type": "code",
   "execution_count": 9,
   "id": "ba990cfc",
   "metadata": {},
   "outputs": [],
   "source": [
    "orders=pd.read_csv(r\"C:\\Users\\Deepak\\Desktop\\python_practice\\order_data 1.csv\")"
   ]
  },
  {
   "cell_type": "code",
   "execution_count": 10,
   "id": "14cdd5d1",
   "metadata": {},
   "outputs": [
    {
     "data": {
      "text/plain": [
       "255"
      ]
     },
     "execution_count": 10,
     "metadata": {},
     "output_type": "execute_result"
    }
   ],
   "source": [
    "orders.to_sql(\"orders\",con=engine,index=False, if_exists='replace')"
   ]
  },
  {
   "cell_type": "markdown",
   "id": "29e91247",
   "metadata": {},
   "source": [
    "Data Transformation Requirements"
   ]
  },
  {
   "cell_type": "code",
   "execution_count": null,
   "id": "763d9ba4",
   "metadata": {},
   "outputs": [],
   "source": []
  }
 ],
 "metadata": {
  "kernelspec": {
   "display_name": "Python 3",
   "language": "python",
   "name": "python3"
  },
  "language_info": {
   "codemirror_mode": {
    "name": "ipython",
    "version": 3
   },
   "file_extension": ".py",
   "mimetype": "text/x-python",
   "name": "python",
   "nbconvert_exporter": "python",
   "pygments_lexer": "ipython3",
   "version": "3.11.9"
  }
 },
 "nbformat": 4,
 "nbformat_minor": 5
}
