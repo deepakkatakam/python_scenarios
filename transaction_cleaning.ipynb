{
 "cells": [
  {
   "cell_type": "code",
   "execution_count": 2,
   "id": "87a1c716",
   "metadata": {},
   "outputs": [],
   "source": [
    "import pandas as pd\n",
    "transaction_table=pd.read_csv(r\"C:\\Users\\Deepak\\Downloads\\transaction_data.csv\")"
   ]
  },
  {
   "cell_type": "code",
   "execution_count": 6,
   "id": "acad6060",
   "metadata": {},
   "outputs": [
    {
     "data": {
      "text/plain": [
       "transaction_id      0\n",
       "customer_id         0\n",
       "amount              0\n",
       "transaction_date    0\n",
       "product_category    0\n",
       "payment_method      0\n",
       "store_location      0\n",
       "dtype: int64"
      ]
     },
     "execution_count": 6,
     "metadata": {},
     "output_type": "execute_result"
    }
   ],
   "source": [
    "\n",
    "transaction_table['amount']=transaction_table['amount'].fillna(transaction_table['amount'].mean())\n",
    "transaction_table.isnull().sum()"
   ]
  },
  {
   "cell_type": "code",
   "execution_count": 7,
   "id": "eed99958",
   "metadata": {},
   "outputs": [],
   "source": [
    "transaction_table.to_csv('transaction_table_cleaned.csv',index=False)"
   ]
  }
 ],
 "metadata": {
  "kernelspec": {
   "display_name": "Python 3",
   "language": "python",
   "name": "python3"
  },
  "language_info": {
   "codemirror_mode": {
    "name": "ipython",
    "version": 3
   },
   "file_extension": ".py",
   "mimetype": "text/x-python",
   "name": "python",
   "nbconvert_exporter": "python",
   "pygments_lexer": "ipython3",
   "version": "3.11.9"
  }
 },
 "nbformat": 4,
 "nbformat_minor": 5
}
