{
 "cells": [
  {
   "cell_type": "code",
   "execution_count": 201,
   "id": "a08981b7",
   "metadata": {},
   "outputs": [
    {
     "name": "stdout",
     "output_type": "stream",
     "text": [
      "Requirement already satisfied: SQLALchemy in c:\\users\\deepak\\appdata\\local\\programs\\python\\python311\\lib\\site-packages (2.0.41)\n",
      "Requirement already satisfied: greenlet>=1 in c:\\users\\deepak\\appdata\\local\\programs\\python\\python311\\lib\\site-packages (from SQLALchemy) (3.2.3)\n",
      "Requirement already satisfied: typing-extensions>=4.6.0 in c:\\users\\deepak\\appdata\\roaming\\python\\python311\\site-packages (from SQLALchemy) (4.14.0)\n",
      "Note: you may need to restart the kernel to use updated packages.\n"
     ]
    },
    {
     "name": "stderr",
     "output_type": "stream",
     "text": [
      "\n",
      "[notice] A new release of pip is available: 24.0 -> 25.1.1\n",
      "[notice] To update, run: python.exe -m pip install --upgrade pip\n"
     ]
    }
   ],
   "source": [
    "pip install SQLALchemy"
   ]
  },
  {
   "cell_type": "code",
   "execution_count": 202,
   "id": "6a3754ac",
   "metadata": {},
   "outputs": [],
   "source": [
    "from sqlalchemy import create_engine\n",
    "from sqlalchemy.engine import URL\n",
    "from sqlalchemy.types import Integer, Float, String, DateTime\n",
    "import pyodbc as pyo\n",
    "import pandas as pd\n",
    "import os"
   ]
  },
  {
   "cell_type": "code",
   "execution_count": 203,
   "id": "d7c80788",
   "metadata": {},
   "outputs": [],
   "source": [
    "DRIVER_NAME='SQL SERVER'\n",
    "USERNAME='sa'\n",
    "SERVER_NAME = 'DESKTOP-RJ6N7AA\\MSSQLSERVER1'\n",
    "DATABASE_NAME='python_scenarios'\n",
    "PASSWORD='1234567890'"
   ]
  },
  {
   "cell_type": "code",
   "execution_count": 204,
   "id": "2175bc52",
   "metadata": {},
   "outputs": [],
   "source": [
    "connectionString = f'DRIVER={{SQL Server}};SERVER={SERVER_NAME};DATABASE={DATABASE_NAME};UID={USERNAME};PWD={PASSWORD}'"
   ]
  },
  {
   "cell_type": "code",
   "execution_count": 205,
   "id": "b385cca2",
   "metadata": {},
   "outputs": [
    {
     "name": "stdout",
     "output_type": "stream",
     "text": [
      "<pyodbc.Connection object at 0x0000019BEC056F50>\n"
     ]
    }
   ],
   "source": [
    "#connecting db\n",
    "con=pyo.connect(connectionString)\n",
    "print(con)"
   ]
  },
  {
   "cell_type": "code",
   "execution_count": 206,
   "id": "74f42836",
   "metadata": {},
   "outputs": [],
   "source": [
    "#create database\n",
    "cur=con.cursor()\n",
    "#cur.execute('CREATE DATABASE Deepak')\n",
    "#cur.execute('CREATE TABLE')"
   ]
  },
  {
   "cell_type": "markdown",
   "id": "0be6061f",
   "metadata": {},
   "source": [
    "# Extracting customer information from a SQL Server database for reporting purposes."
   ]
  },
  {
   "cell_type": "code",
   "execution_count": 207,
   "id": "d67fa145",
   "metadata": {},
   "outputs": [
    {
     "name": "stdout",
     "output_type": "stream",
     "text": [
      "Index(['customer_id', 'name', 'email', 'phone', 'address', 'registration_date',\n",
      "       'loyalty_status', 'country_code'],\n",
      "      dtype='object')\n"
     ]
    }
   ],
   "source": [
    "file_path=r\"C:\\Users\\Deepak\\Desktop\\python_practice\\customer_data_cleaned.csv\"\n",
    "df=pd.read_csv(file_path)\n",
    "\n",
    "print(df.columns)\n",
    "df.drop(columns=['country_code'])\n",
    "df['phone']=df['phone'].str[-10:]\n",
    "df['registration_date']=pd.to_datetime(df['registration_date'], dayfirst=True)"
   ]
  },
  {
   "cell_type": "markdown",
   "id": "fc772d7f",
   "metadata": {},
   "source": []
  },
  {
   "cell_type": "code",
   "execution_count": 208,
   "id": "306e70a0",
   "metadata": {},
   "outputs": [],
   "source": [
    "with pyo.connect(connectionString) as conn:\n",
    "    cursor=conn.cursor()\n",
    "    create_table_query='''\n",
    "                        create table customers(\n",
    "                        customer_id int primary key,\n",
    "                        customer_name varchar(max),\n",
    "                        email varchar(50),\n",
    "                        phone varchar(max),\n",
    "                        address varchar(max),\n",
    "                        registration_date date,\n",
    "                        loyalty_status varchar(10)\n",
    "                        )\n",
    "                    '''\n",
    "    cursor.execute(create_table_query)\n",
    "   "
   ]
  },
  {
   "cell_type": "code",
   "execution_count": 209,
   "id": "b568c58a",
   "metadata": {},
   "outputs": [
    {
     "name": "stdout",
     "output_type": "stream",
     "text": [
      "customer_id                   int64\n",
      "name                         object\n",
      "email                        object\n",
      "phone                        object\n",
      "address                      object\n",
      "registration_date    datetime64[ns]\n",
      "loyalty_status               object\n",
      "country_code                 object\n",
      "dtype: object\n"
     ]
    }
   ],
   "source": [
    "\n",
    "print(df.dtypes)"
   ]
  },
  {
   "cell_type": "code",
   "execution_count": 210,
   "id": "62a22bfc",
   "metadata": {},
   "outputs": [],
   "source": [
    "with pyo.connect(connectionString) as con:\n",
    "    cursor=con.cursor()\n",
    "    insert_values='''\n",
    "                    insert into customers(customer_id,customer_name,email,phone,address,registration_date,loyalty_status)\n",
    "                    values(?,?,?,?,?,?,?)\n",
    "                    '''\n",
    "    for index,row in df.iterrows():\n",
    "        cursor.execute(insert_values,\n",
    "                                    row['customer_id'],\n",
    "                                    row['name'],\n",
    "                                    row['email'],\n",
    "                                    row['phone'],\n",
    "                                    row['address'],\n",
    "                                    row['registration_date'],\n",
    "                                    row['loyalty_status']\n",
    "                        )"
   ]
  },
  {
   "cell_type": "markdown",
   "id": "1d91b32e",
   "metadata": {},
   "source": [
    "# inserting transactional table\n"
   ]
  },
  {
   "cell_type": "code",
   "execution_count": 211,
   "id": "d1b497c1",
   "metadata": {},
   "outputs": [
    {
     "name": "stdout",
     "output_type": "stream",
     "text": [
      "transaction_id               int64\n",
      "customer_id                  int64\n",
      "amount                     float64\n",
      "transaction_date    datetime64[ns]\n",
      "product_category            object\n",
      "payment_method              object\n",
      "store_location              object\n",
      "dtype: object\n",
      "['transaction_id', 'customer_id', 'amount', 'transaction_date', 'product_category', 'payment_method', 'store_location']\n",
      "['transaction_id', 'customer_id', 'amount', 'transaction_date', 'product_category', 'payment_method', 'store_location']\n"
     ]
    }
   ],
   "source": [
    "df1=pd.read_csv(r\"C:\\Users\\Deepak\\Desktop\\python_practice\\transaction_table_cleaned.csv\")\n",
    "\n",
    "df1['transaction_date']=pd.to_datetime(df1['transaction_date'])\n",
    "df1.columns = df1.columns.str.strip() \n",
    "df1.columns\n",
    "print(df1.dtypes)\n",
    "print(df1.columns.tolist())\n",
    "\n",
    "df1.columns = df1.columns.str.strip().str.lower()\n",
    "print(df1.columns.tolist())  # check again\n"
   ]
  },
  {
   "cell_type": "code",
   "execution_count": 212,
   "id": "df51b10c",
   "metadata": {},
   "outputs": [],
   "source": [
    "with pyo.connect(connectionString) as conn:\n",
    "    cursor=conn.cursor()\n",
    "    create_table_query='''\n",
    "                        create table transactions(\n",
    "                        transaction_id int primary key,\n",
    "                        customer_id int,\n",
    "                        amount float,\n",
    "                        transaction_date date,\n",
    "                        product_category varchar(max),\n",
    "                        payment_method varchar(max),\n",
    "                        store_location varchar(max),\n",
    "                        FOREIGN KEY (customer_id) REFERENCES customers(customer_id)\n",
    "                        )\n",
    "                    '''\n",
    "    cursor.execute(create_table_query)"
   ]
  },
  {
   "cell_type": "code",
   "execution_count": 213,
   "id": "f659f4f5",
   "metadata": {},
   "outputs": [],
   "source": [
    "df.columns = df.columns.str.strip().str.lower()  # normalize column names\n",
    "\n",
    "with pyo.connect(connectionString) as con:\n",
    "    cursor = con.cursor()\n",
    "    \n",
    "    insert_query = '''\n",
    "        INSERT INTO transactions(transaction_id, customer_id, amount, transaction_date, product_category, payment_method, store_location)\n",
    "        VALUES (?, ?, ?, ?, ?, ?, ?)\n",
    "    '''\n",
    "    \n",
    "    for _, row in df1.iterrows():\n",
    "        cursor.execute(insert_query,\n",
    "                       row['transaction_id'],\n",
    "                       row['customer_id'],\n",
    "                       row['amount'],\n",
    "                       row['transaction_date'],\n",
    "                       row['product_category'],\n",
    "                       row['payment_method'],\n",
    "                       row['store_location'])\n",
    "    con.commit()\n"
   ]
  },
  {
   "cell_type": "markdown",
   "id": "cd53e353",
   "metadata": {},
   "source": [
    "# uploading orders table\n"
   ]
  },
  {
   "cell_type": "code",
   "execution_count": 214,
   "id": "3555bcce",
   "metadata": {},
   "outputs": [
    {
     "name": "stderr",
     "output_type": "stream",
     "text": [
      "C:\\Users\\Deepak\\AppData\\Local\\Temp\\ipykernel_5112\\1076480244.py:2: UserWarning: Parsing dates in %Y-%m-%d format when dayfirst=True was specified. Pass `dayfirst=False` or specify a format to silence this warning.\n",
      "  df2['order_date']=pd.to_datetime(df2['order_date'], dayfirst=True)\n"
     ]
    },
    {
     "data": {
      "text/plain": [
       "order_id                    object\n",
       "customer_id                  int64\n",
       "order_date          datetime64[ns]\n",
       "order_amount               float64\n",
       "order_status                object\n",
       "product_category            object\n",
       "dtype: object"
      ]
     },
     "execution_count": 214,
     "metadata": {},
     "output_type": "execute_result"
    }
   ],
   "source": [
    "df2=pd.read_csv(r\"C:\\Users\\Deepak\\Desktop\\python_practice\\order_data 1.csv\")\n",
    "df2['order_date']=pd.to_datetime(df2['order_date'], dayfirst=True)\n",
    "df2.dtypes"
   ]
  },
  {
   "cell_type": "code",
   "execution_count": 215,
   "id": "9ab0daa0",
   "metadata": {},
   "outputs": [],
   "source": [
    "with pyo.connect(connectionString) as conn:\n",
    "    cursor = conn.cursor()\n",
    "    create_table_query = '''\n",
    "        CREATE TABLE orders (\n",
    "            order_id VARCHAR(50) PRIMARY KEY,\n",
    "            customer_id INT,\n",
    "            order_date DATE,\n",
    "            order_amount FLOAT,\n",
    "            order_status VARCHAR(50),\n",
    "            product_category VARCHAR(100)\n",
    "        )\n",
    "    '''\n",
    "    cursor.execute(create_table_query)\n"
   ]
  },
  {
   "cell_type": "code",
   "execution_count": 216,
   "id": "4b277bfe",
   "metadata": {},
   "outputs": [],
   "source": [
    "with pyo.connect(connectionString) as con:\n",
    "    cursor = con.cursor()\n",
    "    \n",
    "    insert_query = '''\n",
    "        INSERT INTO orders(order_id, customer_id, order_date, order_amount, order_status, product_category)\n",
    "        VALUES (?, ?, ?, ?, ?, ?)\n",
    "    '''\n",
    "    \n",
    "    for _, row in df2.iterrows():\n",
    "        cursor.execute(insert_query,\n",
    "                       row['order_id'],\n",
    "                       row['customer_id'],\n",
    "                       row['order_date'],\n",
    "                       row['order_amount'],\n",
    "                       row['order_status'],\n",
    "                       row['product_category'])\n",
    "    con.commit()"
   ]
  },
  {
   "cell_type": "markdown",
   "id": "a4f08367",
   "metadata": {},
   "source": [
    "# Data Transformation Requirements\n",
    "# naming processing"
   ]
  },
  {
   "cell_type": "markdown",
   "id": "b42bb0ea",
   "metadata": {},
   "source": []
  },
  {
   "cell_type": "code",
   "execution_count": null,
   "id": "6c00647d",
   "metadata": {},
   "outputs": [],
   "source": []
  }
 ],
 "metadata": {
  "kernelspec": {
   "display_name": "Python 3",
   "language": "python",
   "name": "python3"
  },
  "language_info": {
   "codemirror_mode": {
    "name": "ipython",
    "version": 3
   },
   "file_extension": ".py",
   "mimetype": "text/x-python",
   "name": "python",
   "nbconvert_exporter": "python",
   "pygments_lexer": "ipython3",
   "version": "3.11.9"
  }
 },
 "nbformat": 4,
 "nbformat_minor": 5
}
