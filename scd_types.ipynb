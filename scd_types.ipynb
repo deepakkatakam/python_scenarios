{
 "cells": [
  {
   "cell_type": "code",
   "execution_count": 42,
   "id": "7b7a4e7b",
   "metadata": {},
   "outputs": [],
   "source": [
    "import pyodbc\n",
    "conn = pyodbc.connect(\n",
    "    \"DRIVER={ODBC Driver 17 for SQL SERVER};\"\n",
    "    \"SERVER=DESKTOP-RJ6N7AA\\\\MSSQLSERVER1;\"\n",
    "    \"DATABASE=scdtype;\"\n",
    "    \"UID=sa;\"\n",
    "    \"PWD=1234567890;\"\n",
    "    \"TrustServerCertificate=yes;\"\n",
    ")\n",
    "from datetime import datetime\n"
   ]
  },
  {
   "cell_type": "code",
   "execution_count": 43,
   "id": "80a82377",
   "metadata": {},
   "outputs": [],
   "source": [
    "setup_sql = \"\"\"\n",
    "-- Clear old tables\n",
    "IF OBJECT_ID('Customer_SCD0', 'U') IS NOT NULL DROP TABLE Customer_SCD0;\n",
    "IF OBJECT_ID('Customer_SCD1', 'U') IS NOT NULL DROP TABLE Customer_SCD1;\n",
    "IF OBJECT_ID('Customer_SCD2', 'U') IS NOT NULL DROP TABLE Customer_SCD2;\n",
    "IF OBJECT_ID('Customer_SCD3', 'U') IS NOT NULL DROP TABLE Customer_SCD3;\n",
    "IF OBJECT_ID('Customer_SCD4', 'U') IS NOT NULL DROP TABLE Customer_SCD4;\n",
    "IF OBJECT_ID('Customer_SCD4_History', 'U') IS NOT NULL DROP TABLE Customer_SCD4_History;\n",
    "IF OBJECT_ID('Customer_SCD5', 'U') IS NOT NULL DROP TABLE Customer_SCD5;\n",
    "IF OBJECT_ID('Customer_SCD5_History', 'U') IS NOT NULL DROP TABLE Customer_SCD5_History;\n",
    "IF OBJECT_ID('Customer_SCD6', 'U') IS NOT NULL DROP TABLE Customer_SCD6;\n",
    "\n",
    "-- Type 0: Fixed data\n",
    "CREATE TABLE Customer_SCD0 (\n",
    "    CustomerID INT PRIMARY KEY,\n",
    "    Name VARCHAR(100),\n",
    "    Address VARCHAR(200)\n",
    ");\n",
    "\n",
    "-- Type 1: Replace data\n",
    "CREATE TABLE Customer_SCD1 (\n",
    "    CustomerID INT PRIMARY KEY,\n",
    "    Name VARCHAR(100),\n",
    "    Address VARCHAR(200)\n",
    ");\n",
    "\n",
    "-- Type 2: Save all changes\n",
    "CREATE TABLE Customer_SCD2 (\n",
    "    SurrogateKey INT IDENTITY(1,1) PRIMARY KEY,\n",
    "    CustomerID INT,\n",
    "    Name VARCHAR(100),\n",
    "    Address VARCHAR(200),\n",
    "    StartDate DATE,\n",
    "    IsCurrent BIT\n",
    ");\n",
    "\n",
    "-- Type 3: Save last address\n",
    "CREATE TABLE Customer_SCD3 (\n",
    "    CustomerID INT PRIMARY KEY,\n",
    "    Name VARCHAR(100),\n",
    "    CurrentAddress VARCHAR(200),\n",
    "    PreviousAddress VARCHAR(200)\n",
    ");\n",
    "\n",
    "-- Type 4: Current data\n",
    "CREATE TABLE Customer_SCD4 (\n",
    "    CustomerID INT PRIMARY KEY,\n",
    "    Name VARCHAR(100),\n",
    "    Address VARCHAR(200)\n",
    ");\n",
    "\n",
    "-- Type 4: Old data\n",
    "CREATE TABLE Customer_SCD4_History (\n",
    "    HistoryID INT IDENTITY(1,1) PRIMARY KEY,\n",
    "    CustomerID INT,\n",
    "    Name VARCHAR(100),\n",
    "    Address VARCHAR(200),\n",
    "    ChangeDate DATE\n",
    ");\n",
    "\n",
    "-- Type 5: Current with history link\n",
    "CREATE TABLE Customer_SCD5 (\n",
    "    CustomerID INT PRIMARY KEY,\n",
    "    Name VARCHAR(100),\n",
    "    Address VARCHAR(200),\n",
    "    CurrentHistoryID INT\n",
    ");\n",
    "\n",
    "-- Type 5: Old data\n",
    "CREATE TABLE Customer_SCD5_History (\n",
    "    HistoryID INT IDENTITY(1,1) PRIMARY KEY,\n",
    "    CustomerID INT,\n",
    "    Name VARCHAR(100),\n",
    "    Address VARCHAR(200),\n",
    "    ChangeDate DATE\n",
    ");\n",
    "\n",
    "-- Type 6: Mix of 1, 2, 3\n",
    "CREATE TABLE Customer_SCD6 (\n",
    "    SurrogateKey INT IDENTITY(1,1) PRIMARY KEY,\n",
    "    CustomerID INT,\n",
    "    Name VARCHAR(100),\n",
    "    CurrentAddress VARCHAR(200),\n",
    "    PreviousAddress VARCHAR(200),\n",
    "    StartDate DATE,\n",
    "    IsCurrent BIT\n",
    ");\n",
    "\n",
    "-- Add one customer (John)\n",
    "INSERT INTO Customer_SCD0 (CustomerID, Name, Address)\n",
    "VALUES (1, 'John Doe', '123 Main St');\n",
    "\n",
    "INSERT INTO Customer_SCD1 SELECT * FROM Customer_SCD0;\n",
    "INSERT INTO Customer_SCD2 (CustomerID, Name, Address, StartDate, IsCurrent)\n",
    "SELECT CustomerID, Name, Address, GETDATE(), 1 FROM Customer_SCD0;\n",
    "INSERT INTO Customer_SCD3 SELECT CustomerID, Name, Address, NULL FROM Customer_SCD0;\n",
    "INSERT INTO Customer_SCD4 SELECT * FROM Customer_SCD0;\n",
    "INSERT INTO Customer_SCD5 (CustomerID, Name, Address) SELECT * FROM Customer_SCD0;\n",
    "INSERT INTO Customer_SCD6 (CustomerID, Name, CurrentAddress, StartDate, IsCurrent)\n",
    "SELECT CustomerID, Name, Address, GETDATE(), 1 FROM Customer_SCD0;\n",
    "\"\"\""
   ]
  },
  {
   "cell_type": "code",
   "execution_count": 44,
   "id": "1fb0a780",
   "metadata": {},
   "outputs": [
    {
     "name": "stdout",
     "output_type": "stream",
     "text": [
      "Tables ready with two customers.\n",
      "(1, 'John Doe', '123 Main St')\n"
     ]
    }
   ],
   "source": [
    "cursor = conn.cursor()\n",
    "for statement in setup_sql.split(';'):\n",
    "    statement = statement.strip()\n",
    "    if statement:\n",
    "        cursor.execute(statement)\n",
    "conn.commit()\n",
    "print(\"Tables ready with two customers.\")\n",
    "cursor.execute(\"SELECT * FROM Customer_SCD1\")\n",
    "rows = cursor.fetchall()\n",
    "\n",
    "for row in rows:\n",
    "    print(row)\n"
   ]
  },
  {
   "cell_type": "code",
   "execution_count": 45,
   "id": "f336e94f",
   "metadata": {},
   "outputs": [],
   "source": [
    "customer_id=1\n",
    "name='John Doe'\n",
    "address='789 Pine Rd'\n"
   ]
  },
  {
   "cell_type": "code",
   "execution_count": 46,
   "id": "2c4cdb36",
   "metadata": {},
   "outputs": [
    {
     "name": "stdout",
     "output_type": "stream",
     "text": [
      "Type 1: New address replaced old.\n"
     ]
    }
   ],
   "source": [
    "cursor.execute(\n",
    "    \"SELECT CustomerID FROM Customer_SCD1 WHERE CustomerID = ?\",\n",
    "    (customer_id,)                                                # pass params as a tuple\n",
    ")\n",
    "if cursor.fetchone():\n",
    "    cursor.execute(\"UPDATE Customer_SCD1 SET Name = ?, Address = ? WHERE CustomerID = ?\",\n",
    "                   (name, address, customer_id))\n",
    "else:\n",
    "    cursor.execute(\"INSERT INTO Customer_SCD1 (CustomerID, Name, Address) VALUES (?, ?, ?)\",\n",
    "                   (customer_id, name, address))\n",
    "print(\"Type 1: New address replaced old.\")"
   ]
  },
  {
   "cell_type": "code",
   "execution_count": 47,
   "id": "e0d2892e",
   "metadata": {},
   "outputs": [
    {
     "name": "stdout",
     "output_type": "stream",
     "text": [
      "(1, 'John Doe', '789 Pine Rd')\n"
     ]
    }
   ],
   "source": [
    "cursor.execute(\"SELECT * FROM Customer_SCD1\")\n",
    "rows = cursor.fetchall()\n",
    "\n",
    "for row in rows:\n",
    "    print(row)"
   ]
  },
  {
   "cell_type": "code",
   "execution_count": 48,
   "id": "c2fb36b4",
   "metadata": {},
   "outputs": [
    {
     "name": "stdout",
     "output_type": "stream",
     "text": [
      "(1, 1, 'John Doe', '123 Main St', datetime.date(2025, 6, 25), True)\n"
     ]
    }
   ],
   "source": [
    "cursor.execute(\"SELECT * FROM Customer_SCD2\")\n",
    "rows = cursor.fetchall()\n",
    "\n",
    "for row in rows:\n",
    "    print(row)"
   ]
  },
  {
   "cell_type": "code",
   "execution_count": 49,
   "id": "81894191",
   "metadata": {},
   "outputs": [
    {
     "name": "stdout",
     "output_type": "stream",
     "text": [
      "Type 2: Saved new address.\n"
     ]
    }
   ],
   "source": [
    "# Type 2: Save new change\n",
    "cursor.execute(\"SELECT Address FROM Customer_SCD2 WHERE CustomerID = ? AND IsCurrent = 1\", customer_id)\n",
    "current = cursor.fetchone()\n",
    "if current and current[0] != address:\n",
    "    cursor.execute(\"UPDATE Customer_SCD2 SET IsCurrent = 0 WHERE CustomerID = ? AND IsCurrent = 1\", customer_id)\n",
    "    cursor.execute(\"INSERT INTO Customer_SCD2 (CustomerID, Name, Address, StartDate, IsCurrent) VALUES (?, ?, ?, ?, 1)\",\n",
    "                   (customer_id, name, address, datetime.now().date()))\n",
    "elif not current:\n",
    "    cursor.execute(\"INSERT INTO Customer_SCD2 (CustomerID, Name, Address, StartDate, IsCurrent) VALUES (?, ?, ?, ?, 1)\",\n",
    "                   (customer_id, name, address, datetime.now().date()))\n",
    "conn.commit()\n",
    "print(\"Type 2: Saved new address.\")"
   ]
  },
  {
   "cell_type": "code",
   "execution_count": 50,
   "id": "039d4a95",
   "metadata": {},
   "outputs": [
    {
     "name": "stdout",
     "output_type": "stream",
     "text": [
      "(1, 1, 'John Doe', '123 Main St', datetime.date(2025, 6, 25), False)\n",
      "(2, 1, 'John Doe', '789 Pine Rd', datetime.date(2025, 6, 25), True)\n"
     ]
    }
   ],
   "source": [
    "cursor.execute(\"SELECT * FROM Customer_SCD2\")\n",
    "rows = cursor.fetchall()\n",
    "\n",
    "for row in rows:\n",
    "    print(row)"
   ]
  },
  {
   "cell_type": "code",
   "execution_count": 51,
   "id": "ba855561",
   "metadata": {},
   "outputs": [
    {
     "name": "stdout",
     "output_type": "stream",
     "text": [
      "(1, 'John Doe', '123 Main St', None)\n"
     ]
    }
   ],
   "source": [
    "cursor.execute(\"SELECT * FROM Customer_SCD3\")\n",
    "rows = cursor.fetchall()\n",
    "\n",
    "for row in rows:\n",
    "    print(row)"
   ]
  },
  {
   "cell_type": "code",
   "execution_count": 52,
   "id": "b74a563e",
   "metadata": {},
   "outputs": [
    {
     "name": "stdout",
     "output_type": "stream",
     "text": [
      "Type 3: Saved last address.\n"
     ]
    }
   ],
   "source": [
    "# Type 3: Save last address\n",
    "cursor.execute(\"SELECT CurrentAddress FROM Customer_SCD3 WHERE CustomerID = ?\", customer_id)\n",
    "current = cursor.fetchone()\n",
    "if current and current[0] != address:\n",
    "    cursor.execute(\"UPDATE Customer_SCD3 SET PreviousAddress = CurrentAddress, CurrentAddress = ? WHERE CustomerID = ?\",\n",
    "                   (address, customer_id))\n",
    "elif not current:\n",
    "    cursor.execute(\"INSERT INTO Customer_SCD3 (CustomerID, Name, CurrentAddress) VALUES (?, ?, ?)\",\n",
    "                   (customer_id, name, address))\n",
    "conn.commit()\n",
    "print(\"Type 3: Saved last address.\")"
   ]
  },
  {
   "cell_type": "code",
   "execution_count": 53,
   "id": "b2ef1903",
   "metadata": {},
   "outputs": [
    {
     "name": "stdout",
     "output_type": "stream",
     "text": [
      "(1, 'John Doe', '789 Pine Rd', '123 Main St')\n"
     ]
    }
   ],
   "source": [
    "cursor.execute(\"SELECT * FROM Customer_SCD3\")\n",
    "rows = cursor.fetchall()\n",
    "\n",
    "for row in rows:\n",
    "    print(row)"
   ]
  },
  {
   "cell_type": "code",
   "execution_count": 54,
   "id": "3f048a87",
   "metadata": {},
   "outputs": [
    {
     "name": "stdout",
     "output_type": "stream",
     "text": [
      "(1, 'John Doe', '123 Main St')\n"
     ]
    }
   ],
   "source": [
    "cursor.execute(\"SELECT * FROM Customer_SCD4\")\n",
    "rows = cursor.fetchall()\n",
    "\n",
    "for row in rows:\n",
    "    print(row)\n",
    "    cursor.execute(\"SELECT * FROM Customer_SCD4_History\")\n",
    "rows = cursor.fetchall()\n",
    "\n",
    "for row in rows:\n",
    "    print(row)\n"
   ]
  },
  {
   "cell_type": "code",
   "execution_count": 55,
   "id": "478ef769",
   "metadata": {},
   "outputs": [
    {
     "name": "stdout",
     "output_type": "stream",
     "text": [
      "Type 4: Updated current and history.\n"
     ]
    }
   ],
   "source": [
    "cursor.execute(\"SELECT Address FROM Customer_SCD4 WHERE CustomerID = ?\", customer_id)\n",
    "current = cursor.fetchone()\n",
    "if current and current[0] != address:\n",
    "    cursor.execute(\"INSERT INTO Customer_SCD4_History (CustomerID, Name, Address, ChangeDate) VALUES (?, ?, ?, ?)\",\n",
    "                   (customer_id, name, current[0], datetime.now().date()))\n",
    "    cursor.execute(\"UPDATE Customer_SCD4 SET Name = ?, Address = ? WHERE CustomerID = ?\",\n",
    "                   (name, address, customer_id))\n",
    "elif not current:\n",
    "    cursor.execute(\"INSERT INTO Customer_SCD4 (CustomerID, Name, Address) VALUES (?, ?, ?)\",\n",
    "                   (customer_id, name, address))\n",
    "conn.commit()\n",
    "print(\"Type 4: Updated current and history.\")"
   ]
  },
  {
   "cell_type": "code",
   "execution_count": 56,
   "id": "497935ef",
   "metadata": {},
   "outputs": [
    {
     "name": "stdout",
     "output_type": "stream",
     "text": [
      "(1, 'John Doe', '123 Main St', None)\n"
     ]
    }
   ],
   "source": [
    "cursor.execute(\"SELECT * FROM Customer_SCD5\")\n",
    "rows = cursor.fetchall()\n",
    "\n",
    "for row in rows:\n",
    "    print(row)\n",
    "    \n",
    "cursor.execute(\"SELECT * FROM Customer_SCD5_History\")\n",
    "    \n",
    "rows = cursor.fetchall()\n",
    "\n",
    "for row in rows:\n",
    "    print(row)"
   ]
  },
  {
   "cell_type": "code",
   "execution_count": 57,
   "id": "7f7a009d",
   "metadata": {},
   "outputs": [
    {
     "name": "stdout",
     "output_type": "stream",
     "text": [
      "Type 5: Updated with history link.\n"
     ]
    }
   ],
   "source": [
    "cursor.execute(\"SELECT Address FROM Customer_SCD5 WHERE CustomerID = ?\", customer_id)\n",
    "current = cursor.fetchone()\n",
    "if current and current[0] != address:\n",
    "    cursor.execute(\"INSERT INTO Customer_SCD5_History (CustomerID, Name, Address, ChangeDate) VALUES (?, ?, ?, ?)\",\n",
    "                   (customer_id, name, current[0], datetime.now().date()))\n",
    "    cursor.execute(\"SELECT SCOPE_IDENTITY()\")\n",
    "    history_id = cursor.fetchone()[0]\n",
    "    cursor.execute(\"UPDATE Customer_SCD5 SET Name = ?, Address = ?, CurrentHistoryID = ? WHERE CustomerID = ?\",\n",
    "                   (name, address, history_id, customer_id))\n",
    "elif not current:\n",
    "    cursor.execute(\"INSERT INTO Customer_SCD5 (CustomerID, Name, Address) VALUES (?, ?, ?)\",\n",
    "                   (customer_id, name, address))\n",
    "conn.commit()\n",
    "print(\"Type 5: Updated with history link.\")"
   ]
  },
  {
   "cell_type": "code",
   "execution_count": 58,
   "id": "2363f44d",
   "metadata": {},
   "outputs": [
    {
     "name": "stdout",
     "output_type": "stream",
     "text": [
      "(1, 'John Doe', '789 Pine Rd', 1)\n",
      "(1, 1, 'John Doe', '123 Main St', datetime.date(2025, 6, 25))\n"
     ]
    }
   ],
   "source": [
    "cursor.execute(\"SELECT * FROM Customer_SCD5\")\n",
    "rows = cursor.fetchall()\n",
    "\n",
    "for row in rows:\n",
    "    print(row)\n",
    "    \n",
    "cursor.execute(\"SELECT * FROM Customer_SCD5_History\")\n",
    "    \n",
    "rows = cursor.fetchall()\n",
    "\n",
    "for row in rows:\n",
    "    print(row)"
   ]
  },
  {
   "cell_type": "code",
   "execution_count": 59,
   "id": "f94587ed",
   "metadata": {},
   "outputs": [
    {
     "name": "stdout",
     "output_type": "stream",
     "text": [
      "Type 6: Updated with history and last address.\n"
     ]
    }
   ],
   "source": [
    "# Type 6: Mix of 1, 2, 3\n",
    "cursor.execute(\"SELECT CurrentAddress FROM Customer_SCD6 WHERE CustomerID = ? AND IsCurrent = 1\", customer_id)\n",
    "current = cursor.fetchone()\n",
    "if current and current[0] != address:\n",
    "    cursor.execute(\"UPDATE Customer_SCD6 SET IsCurrent = 0 WHERE CustomerID = ? AND IsCurrent = 1\", customer_id)\n",
    "    cursor.execute(\"INSERT INTO Customer_SCD6 (CustomerID, Name, CurrentAddress, PreviousAddress, StartDate, IsCurrent) VALUES (?, ?, ?, ?, ?, 1)\",\n",
    "                   (customer_id, name, address, current[0], datetime.now().date()))\n",
    "elif not current:\n",
    "    cursor.execute(\"INSERT INTO Customer_SCD6 (CustomerID, Name, CurrentAddress, StartDate, IsCurrent) VALUES (?, ?, ?, ?, 1)\",\n",
    "                   (customer_id, name, address, datetime.now().date()))\n",
    "conn.commit()\n",
    "print(\"Type 6: Updated with history and last address.\")\n",
    "\n",
    "# Close connection\n",
    "cursor.close()\n",
    "conn.close()"
   ]
  },
  {
   "cell_type": "code",
   "execution_count": null,
   "id": "5168a0a1",
   "metadata": {},
   "outputs": [],
   "source": []
  },
  {
   "cell_type": "code",
   "execution_count": 60,
   "id": "408d51f9",
   "metadata": {},
   "outputs": [
    {
     "ename": "ProgrammingError",
     "evalue": "Attempt to use a closed cursor.",
     "output_type": "error",
     "traceback": [
      "\u001b[31m---------------------------------------------------------------------------\u001b[39m",
      "\u001b[31mProgrammingError\u001b[39m                          Traceback (most recent call last)",
      "\u001b[36mCell\u001b[39m\u001b[36m \u001b[39m\u001b[32mIn[60]\u001b[39m\u001b[32m, line 1\u001b[39m\n\u001b[32m----> \u001b[39m\u001b[32m1\u001b[39m \u001b[43mcursor\u001b[49m\u001b[43m.\u001b[49m\u001b[43mexecute\u001b[49m\u001b[43m(\u001b[49m\u001b[33;43m\"\u001b[39;49m\u001b[33;43mSELECT * FROM Customer_SCD6\u001b[39;49m\u001b[33;43m\"\u001b[39;49m\u001b[43m)\u001b[49m\n\u001b[32m      2\u001b[39m rows = cursor.fetchall()\n\u001b[32m      4\u001b[39m \u001b[38;5;28;01mfor\u001b[39;00m row \u001b[38;5;129;01min\u001b[39;00m rows:\n",
      "\u001b[31mProgrammingError\u001b[39m: Attempt to use a closed cursor."
     ]
    }
   ],
   "source": [
    "cursor.execute(\"SELECT * FROM Customer_SCD6\")\n",
    "rows = cursor.fetchall()\n",
    "\n",
    "for row in rows:\n",
    "    print(row)\n"
   ]
  }
 ],
 "metadata": {
  "kernelspec": {
   "display_name": "Python 3",
   "language": "python",
   "name": "python3"
  },
  "language_info": {
   "codemirror_mode": {
    "name": "ipython",
    "version": 3
   },
   "file_extension": ".py",
   "mimetype": "text/x-python",
   "name": "python",
   "nbconvert_exporter": "python",
   "pygments_lexer": "ipython3",
   "version": "3.11.9"
  }
 },
 "nbformat": 4,
 "nbformat_minor": 5
}
