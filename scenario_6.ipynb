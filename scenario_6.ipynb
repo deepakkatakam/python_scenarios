{
 "cells": [
  {
   "cell_type": "code",
   "execution_count": 7,
   "id": "b4866c48",
   "metadata": {},
   "outputs": [],
   "source": [
    "import pyodbc\n",
    "import pandas as pd  # Fixed typo: was 'pf', should be 'pd'\n",
    "from datetime import datetime, date\n",
    "\n",
    "# Database connection\n",
    "conn = pyodbc.connect(\n",
    "    \"DRIVER={ODBC Driver 17 for SQL Server};\"\n",
    "    \"SERVER=DESKTOP-RJ6N7AA\\MSSQLSERVER1;\"\n",
    "    \"DATABASE=scd;\"\n",
    "    \"UID=sa;\"\n",
    "    \"PWD=1234567890;\"\n",
    "    \"TrustServerCertificate=yes;\"\n",
    ")\n",
    "cursor = conn.cursor()"
   ]
  },
  {
   "cell_type": "markdown",
   "id": "25afb475",
   "metadata": {},
   "source": [
    "SCD Type  0 - No Changes Allowed"
   ]
  },
  {
   "cell_type": "code",
   "execution_count": 8,
   "id": "5570c2a7",
   "metadata": {},
   "outputs": [
    {
     "name": "stdout",
     "output_type": "stream",
     "text": [
      "SCD Type 0: Birth date never changes!\n"
     ]
    }
   ],
   "source": [
    "# Create SCD Type 0 table\n",
    "cursor.execute(\"\"\"\n",
    "CREATE TABLE scd0_customer (\n",
    "    customer_id INT PRIMARY KEY,\n",
    "    name NVARCHAR(100),\n",
    "    birth_date DATE,\n",
    "    created_date DATETIME DEFAULT GETDATE()\n",
    ")\n",
    "\"\"\")\n",
    "\n",
    "# Insert initial data\n",
    "cursor.execute(\"\"\"\n",
    "INSERT INTO scd0_customer (customer_id, name, birth_date) \n",
    "VALUES (1, 'John Smith', '1990-05-15')\n",
    "\"\"\")\n",
    "conn.commit()\n",
    "\n",
    "# Try to update (this would be rejected in real SCD Type 0)\n",
    "print(\"SCD Type 0: Birth date never changes!\")"
   ]
  },
  {
   "cell_type": "markdown",
   "id": "b3bde064",
   "metadata": {},
   "source": [
    "SCD Type 1 - Overwrite"
   ]
  },
  {
   "cell_type": "code",
   "execution_count": 9,
   "id": "d6d8c5d7",
   "metadata": {},
   "outputs": [
    {
     "ename": "ProgrammingError",
     "evalue": "('42S01', \"[42S01] [Microsoft][ODBC Driver 17 for SQL Server][SQL Server]There is already an object named 'scd1_customer' in the database. (2714) (SQLExecDirectW)\")",
     "output_type": "error",
     "traceback": [
      "\u001b[31m---------------------------------------------------------------------------\u001b[39m",
      "\u001b[31mProgrammingError\u001b[39m                          Traceback (most recent call last)",
      "\u001b[36mCell\u001b[39m\u001b[36m \u001b[39m\u001b[32mIn[9]\u001b[39m\u001b[32m, line 2\u001b[39m\n\u001b[32m      1\u001b[39m \u001b[38;5;66;03m# Create SCD Type 1 table\u001b[39;00m\n\u001b[32m----> \u001b[39m\u001b[32m2\u001b[39m \u001b[43mcursor\u001b[49m\u001b[43m.\u001b[49m\u001b[43mexecute\u001b[49m\u001b[43m(\u001b[49m\u001b[33;43m\"\"\"\u001b[39;49m\n\u001b[32m      3\u001b[39m \u001b[33;43mCREATE TABLE scd1_customer (\u001b[39;49m\n\u001b[32m      4\u001b[39m \u001b[33;43m    customer_id INT PRIMARY KEY,\u001b[39;49m\n\u001b[32m      5\u001b[39m \u001b[33;43m    name NVARCHAR(100),\u001b[39;49m\n\u001b[32m      6\u001b[39m \u001b[33;43m    phone NVARCHAR(20),\u001b[39;49m\n\u001b[32m      7\u001b[39m \u001b[33;43m    last_updated DATETIME DEFAULT GETDATE()\u001b[39;49m\n\u001b[32m      8\u001b[39m \u001b[33;43m)\u001b[39;49m\n\u001b[32m      9\u001b[39m \u001b[33;43m\"\"\"\u001b[39;49m\u001b[43m)\u001b[49m\n\u001b[32m     11\u001b[39m \u001b[38;5;66;03m# Insert initial data\u001b[39;00m\n\u001b[32m     12\u001b[39m cursor.execute(\u001b[33m\"\"\"\u001b[39m\n\u001b[32m     13\u001b[39m \u001b[33mINSERT INTO scd1_customer (customer_id, name, phone) \u001b[39m\n\u001b[32m     14\u001b[39m \u001b[33mVALUES (1, \u001b[39m\u001b[33m'\u001b[39m\u001b[33mJohn Smith\u001b[39m\u001b[33m'\u001b[39m\u001b[33m, \u001b[39m\u001b[33m'\u001b[39m\u001b[33m123-456-7890\u001b[39m\u001b[33m'\u001b[39m\u001b[33m)\u001b[39m\n\u001b[32m     15\u001b[39m \u001b[33m\"\"\"\u001b[39m)\n",
      "\u001b[31mProgrammingError\u001b[39m: ('42S01', \"[42S01] [Microsoft][ODBC Driver 17 for SQL Server][SQL Server]There is already an object named 'scd1_customer' in the database. (2714) (SQLExecDirectW)\")"
     ]
    }
   ],
   "source": [
    "# Create SCD Type 1 table\n",
    "cursor.execute(\"\"\"\n",
    "CREATE TABLE scd1_customer (\n",
    "    customer_id INT PRIMARY KEY,\n",
    "    name NVARCHAR(100),\n",
    "    phone NVARCHAR(20),\n",
    "    last_updated DATETIME DEFAULT GETDATE()\n",
    ")\n",
    "\"\"\")\n",
    "\n",
    "# Insert initial data\n",
    "cursor.execute(\"\"\"\n",
    "INSERT INTO scd1_customer (customer_id, name, phone) \n",
    "VALUES (1, 'John Smith', '123-456-7890')\n",
    "\"\"\")\n",
    "conn.commit()\n",
    "\n",
    "# Update phone number (overwrites old value)\n",
    "cursor.execute(\"\"\"\n",
    "UPDATE scd1_customer \n",
    "SET phone = '987-654-3210', last_updated = GETDATE() \n",
    "WHERE customer_id = 1\n",
    "\"\"\")\n",
    "conn.commit()\n",
    "\n",
    "# Check result\n",
    "df = pd.read_sql(\"SELECT * FROM scd1_customer WHERE customer_id = 1\", conn)\n",
    "print(\"SCD Type 1 Result:\")\n",
    "print(df)\n",
    "print(\"Old phone number is lost forever!\")"
   ]
  }
 ],
 "metadata": {
  "kernelspec": {
   "display_name": "Python 3",
   "language": "python",
   "name": "python3"
  },
  "language_info": {
   "codemirror_mode": {
    "name": "ipython",
    "version": 3
   },
   "file_extension": ".py",
   "mimetype": "text/x-python",
   "name": "python",
   "nbconvert_exporter": "python",
   "pygments_lexer": "ipython3",
   "version": "3.11.9"
  }
 },
 "nbformat": 4,
 "nbformat_minor": 5
}
