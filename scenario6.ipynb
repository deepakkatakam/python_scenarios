{
 "cells": [
  {
   "cell_type": "markdown",
   "id": "d20601c2",
   "metadata": {},
   "source": [
    "\n",
    "**Updating customer records in a SQL Server database with the latest information.\t\n",
    "SCD Type-1,2,3,4,5 Mapping **\n"
   ]
  },
  {
   "cell_type": "markdown",
   "id": "7d15eb5c",
   "metadata": {},
   "source": [
    "Import and Connection Setup\n"
   ]
  },
  {
   "cell_type": "code",
   "execution_count": 2,
   "id": "b480a49c",
   "metadata": {},
   "outputs": [],
   "source": [
    "import pyodbc\n",
    "import pandas as pf\n",
    "from datetime import datetime"
   ]
  },
  {
   "cell_type": "code",
   "execution_count": 3,
   "id": "1150f159",
   "metadata": {},
   "outputs": [],
   "source": [
    "conn=pyodbc.connect(\n",
    "    \"DRIVER={ODBC Driver 17 for SQL SERVER};\"\n",
    "    \"SERVER=DESKTOP-RJ6N7AA\\MSSQLSERVER1;\"\n",
    "    \"DATABASE=scd_types;\"\n",
    "    \"UID=sa;\"\n",
    "    \"PWD=1234567890;\"\n",
    "    \"TrustServerCertificate=yes;\"\n",
    ")"
   ]
  },
  {
   "cell_type": "code",
   "execution_count": 4,
   "id": "d23b7781",
   "metadata": {},
   "outputs": [],
   "source": [
    "cursor = conn.cursor()"
   ]
  },
  {
   "cell_type": "markdown",
   "id": "7c1bd730",
   "metadata": {},
   "source": [
    "Create customers table and insert values"
   ]
  },
  {
   "cell_type": "code",
   "execution_count": 5,
   "id": "eee42f93",
   "metadata": {},
   "outputs": [
    {
     "ename": "ProgrammingError",
     "evalue": "('42S01', \"[42S01] [Microsoft][ODBC Driver 17 for SQL Server][SQL Server]There is already an object named 'Customers' in the database. (2714) (SQLExecDirectW)\")",
     "output_type": "error",
     "traceback": [
      "\u001b[31m---------------------------------------------------------------------------\u001b[39m",
      "\u001b[31mProgrammingError\u001b[39m                          Traceback (most recent call last)",
      "\u001b[36mCell\u001b[39m\u001b[36m \u001b[39m\u001b[32mIn[5]\u001b[39m\u001b[32m, line 1\u001b[39m\n\u001b[32m----> \u001b[39m\u001b[32m1\u001b[39m \u001b[43mcursor\u001b[49m\u001b[43m.\u001b[49m\u001b[43mexecute\u001b[49m\u001b[43m(\u001b[49m\u001b[33;43m\"\"\"\u001b[39;49m\n\u001b[32m      2\u001b[39m \u001b[33;43m    CREATE TABLE Customers (\u001b[39;49m\n\u001b[32m      3\u001b[39m \u001b[33;43m        CustomerID INT PRIMARY KEY,\u001b[39;49m\n\u001b[32m      4\u001b[39m \u001b[33;43m        Name NVARCHAR(100),\u001b[39;49m\n\u001b[32m      5\u001b[39m \u001b[33;43m        Email NVARCHAR(100),\u001b[39;49m\n\u001b[32m      6\u001b[39m \u001b[33;43m        Membership NVARCHAR(50),\u001b[39;49m\n\u001b[32m      7\u001b[39m \u001b[33;43m        Region NVARCHAR(50),\u001b[39;49m\n\u001b[32m      8\u001b[39m \u001b[33;43m        JoinDate DATE\u001b[39;49m\n\u001b[32m      9\u001b[39m \u001b[33;43m    )\u001b[39;49m\n\u001b[32m     10\u001b[39m \u001b[33;43m\"\"\"\u001b[39;49m\u001b[43m)\u001b[49m\n",
      "\u001b[31mProgrammingError\u001b[39m: ('42S01', \"[42S01] [Microsoft][ODBC Driver 17 for SQL Server][SQL Server]There is already an object named 'Customers' in the database. (2714) (SQLExecDirectW)\")"
     ]
    }
   ],
   "source": [
    "cursor.execute(\"\"\"\n",
    "    CREATE TABLE Customers (\n",
    "        CustomerID INT PRIMARY KEY,\n",
    "        Name NVARCHAR(100),\n",
    "        Email NVARCHAR(100),\n",
    "        Membership NVARCHAR(50),\n",
    "        Region NVARCHAR(50),\n",
    "        JoinDate DATE\n",
    "    )\n",
    "\"\"\")\n"
   ]
  },
  {
   "cell_type": "code",
   "execution_count": 6,
   "id": "ea225aca",
   "metadata": {},
   "outputs": [
    {
     "ename": "IntegrityError",
     "evalue": "('23000', \"[23000] [Microsoft][ODBC Driver 17 for SQL Server][SQL Server]Violation of PRIMARY KEY constraint 'PK__Customer__A4AE64B88F11BA50'. Cannot insert duplicate key in object 'dbo.Customers'. The duplicate key value is (101). (2627) (SQLExecDirectW); [23000] [Microsoft][ODBC Driver 17 for SQL Server][SQL Server]The statement has been terminated. (3621)\")",
     "output_type": "error",
     "traceback": [
      "\u001b[31m---------------------------------------------------------------------------\u001b[39m",
      "\u001b[31mIntegrityError\u001b[39m                            Traceback (most recent call last)",
      "\u001b[36mCell\u001b[39m\u001b[36m \u001b[39m\u001b[32mIn[6]\u001b[39m\u001b[32m, line 1\u001b[39m\n\u001b[32m----> \u001b[39m\u001b[32m1\u001b[39m \u001b[43mcursor\u001b[49m\u001b[43m.\u001b[49m\u001b[43mexecutemany\u001b[49m\u001b[43m(\u001b[49m\u001b[33;43m\"\"\"\u001b[39;49m\n\u001b[32m      2\u001b[39m \u001b[33;43m    INSERT INTO Customers (CustomerID, Name, Email, Membership, Region, JoinDate)\u001b[39;49m\n\u001b[32m      3\u001b[39m \u001b[33;43m    VALUES (?, ?, ?, ?, ?, ?)\u001b[39;49m\n\u001b[32m      4\u001b[39m \u001b[33;43m\"\"\"\u001b[39;49m\u001b[43m,\u001b[49m\u001b[43m \u001b[49m\u001b[43m[\u001b[49m\n\u001b[32m      5\u001b[39m \u001b[43m    \u001b[49m\u001b[43m(\u001b[49m\u001b[32;43m101\u001b[39;49m\u001b[43m,\u001b[49m\u001b[43m \u001b[49m\u001b[33;43m'\u001b[39;49m\u001b[33;43mJohn Doe\u001b[39;49m\u001b[33;43m'\u001b[39;49m\u001b[43m,\u001b[49m\u001b[43m \u001b[49m\u001b[33;43m'\u001b[39;49m\u001b[33;43mjohn@example.com\u001b[39;49m\u001b[33;43m'\u001b[39;49m\u001b[43m,\u001b[49m\u001b[43m \u001b[49m\u001b[33;43m'\u001b[39;49m\u001b[33;43mBasic\u001b[39;49m\u001b[33;43m'\u001b[39;49m\u001b[43m,\u001b[49m\u001b[43m \u001b[49m\u001b[33;43m'\u001b[39;49m\u001b[33;43mEast\u001b[39;49m\u001b[33;43m'\u001b[39;49m\u001b[43m,\u001b[49m\u001b[43m \u001b[49m\u001b[33;43m'\u001b[39;49m\u001b[33;43m2020-01-15\u001b[39;49m\u001b[33;43m'\u001b[39;49m\u001b[43m)\u001b[49m\u001b[43m,\u001b[49m\n\u001b[32m      6\u001b[39m \u001b[43m    \u001b[49m\u001b[43m(\u001b[49m\u001b[32;43m102\u001b[39;49m\u001b[43m,\u001b[49m\u001b[43m \u001b[49m\u001b[33;43m'\u001b[39;49m\u001b[33;43mJane Smith\u001b[39;49m\u001b[33;43m'\u001b[39;49m\u001b[43m,\u001b[49m\u001b[43m \u001b[49m\u001b[33;43m'\u001b[39;49m\u001b[33;43mjane@example.com\u001b[39;49m\u001b[33;43m'\u001b[39;49m\u001b[43m,\u001b[49m\u001b[43m \u001b[49m\u001b[33;43m'\u001b[39;49m\u001b[33;43mPremium\u001b[39;49m\u001b[33;43m'\u001b[39;49m\u001b[43m,\u001b[49m\u001b[43m \u001b[49m\u001b[33;43m'\u001b[39;49m\u001b[33;43mWest\u001b[39;49m\u001b[33;43m'\u001b[39;49m\u001b[43m,\u001b[49m\u001b[43m \u001b[49m\u001b[33;43m'\u001b[39;49m\u001b[33;43m2019-11-20\u001b[39;49m\u001b[33;43m'\u001b[39;49m\u001b[43m)\u001b[49m\u001b[43m,\u001b[49m\n\u001b[32m      7\u001b[39m \u001b[43m    \u001b[49m\u001b[43m(\u001b[49m\u001b[32;43m103\u001b[39;49m\u001b[43m,\u001b[49m\u001b[43m \u001b[49m\u001b[33;43m'\u001b[39;49m\u001b[33;43mMike Johnson\u001b[39;49m\u001b[33;43m'\u001b[39;49m\u001b[43m,\u001b[49m\u001b[43m \u001b[49m\u001b[33;43m'\u001b[39;49m\u001b[33;43mmike@example.com\u001b[39;49m\u001b[33;43m'\u001b[39;49m\u001b[43m,\u001b[49m\u001b[43m \u001b[49m\u001b[33;43m'\u001b[39;49m\u001b[33;43mBasic\u001b[39;49m\u001b[33;43m'\u001b[39;49m\u001b[43m,\u001b[49m\u001b[43m \u001b[49m\u001b[33;43m'\u001b[39;49m\u001b[33;43mNorth\u001b[39;49m\u001b[33;43m'\u001b[39;49m\u001b[43m,\u001b[49m\u001b[43m \u001b[49m\u001b[33;43m'\u001b[39;49m\u001b[33;43m2021-03-10\u001b[39;49m\u001b[33;43m'\u001b[39;49m\u001b[43m)\u001b[49m\n\u001b[32m      8\u001b[39m \u001b[43m]\u001b[49m\u001b[43m)\u001b[49m\n\u001b[32m      9\u001b[39m conn.commit()\n\u001b[32m     10\u001b[39m conn.close()\n",
      "\u001b[31mIntegrityError\u001b[39m: ('23000', \"[23000] [Microsoft][ODBC Driver 17 for SQL Server][SQL Server]Violation of PRIMARY KEY constraint 'PK__Customer__A4AE64B88F11BA50'. Cannot insert duplicate key in object 'dbo.Customers'. The duplicate key value is (101). (2627) (SQLExecDirectW); [23000] [Microsoft][ODBC Driver 17 for SQL Server][SQL Server]The statement has been terminated. (3621)\")"
     ]
    }
   ],
   "source": [
    "cursor.executemany(\"\"\"\n",
    "    INSERT INTO Customers (CustomerID, Name, Email, Membership, Region, JoinDate)\n",
    "    VALUES (?, ?, ?, ?, ?, ?)\n",
    "\"\"\", [\n",
    "    (101, 'John Doe', 'john@example.com', 'Basic', 'East', '2020-01-15'),\n",
    "    (102, 'Jane Smith', 'jane@example.com', 'Premium', 'West', '2019-11-20'),\n",
    "    (103, 'Mike Johnson', 'mike@example.com', 'Basic', 'North', '2021-03-10')\n",
    "])\n",
    "conn.commit()\n",
    "conn.close()"
   ]
  },
  {
   "cell_type": "markdown",
   "id": "e3de6d45",
   "metadata": {},
   "source": [
    "SCD Type 0 "
   ]
  },
  {
   "cell_type": "code",
   "execution_count": 7,
   "id": "f0312939",
   "metadata": {},
   "outputs": [
    {
     "name": "stdout",
     "output_type": "stream",
     "text": [
      "JoinDate cannot be changed (Type 0)\n"
     ]
    }
   ],
   "source": [
    "# Before update, fetch original value\n",
    "cursor.execute(\"SELECT JoinDate FROM Customers WHERE CustomerID = ?\", (101,))\n",
    "old_joindate = cursor.fetchone()[0]\n",
    "\n",
    "if old_joindate != datetime.strptime(\"2023-01-01\", \"%Y-%m-%d\").date():\n",
    "    print(\"JoinDate cannot be changed (Type 0)\")\n",
    "else:\n",
    "    # Safe update for other fields\n",
    "    cursor.execute(\"UPDATE Customers SET Region = ? WHERE CustomerID = ?\", ('South', 101))\n",
    "    conn.commit()"
   ]
  },
  {
   "cell_type": "markdown",
   "id": "488832f3",
   "metadata": {},
   "source": [
    "Type 1 – Overwrite Value (no history)"
   ]
  },
  {
   "cell_type": "code",
   "execution_count": 9,
   "id": "b4e192f3",
   "metadata": {},
   "outputs": [],
   "source": [
    "cursor.execute(\"\"\"\n",
    "    UPDATE Customers\n",
    "    SET Name=?,Email=?, Membership=?\n",
    "    Where CustomerID=?\n",
    "\"\"\",('Deepak K','deepak_new@example.com','Platinum',101))\n",
    "conn.commit()"
   ]
  },
  {
   "cell_type": "markdown",
   "id": "f91b513f",
   "metadata": {},
   "source": [
    "Type 2 – Keep Full History"
   ]
  },
  {
   "cell_type": "code",
   "execution_count": 10,
   "id": "93180715",
   "metadata": {},
   "outputs": [],
   "source": [
    "cursor.execute(\"\"\"\n",
    "IF OBJECT_ID('Customers_History', 'U') IS NULL\n",
    "CREATE TABLE Customers_History (\n",
    "    HistoryID INT IDENTITY(1,1) PRIMARY KEY,\n",
    "    CustomerID INT,\n",
    "    Name NVARCHAR(100),\n",
    "    Email NVARCHAR(100),\n",
    "    Membership NVARCHAR(50),\n",
    "    Region NVARCHAR(50),\n",
    "    JoinDate DATE,\n",
    "    StartDate DATE,\n",
    "    EndDate DATE,\n",
    "    IsCurrent BIT\n",
    ")\n",
    "\"\"\")\n",
    "conn.commit()"
   ]
  },
  {
   "cell_type": "code",
   "execution_count": 13,
   "id": "de7bfeec",
   "metadata": {},
   "outputs": [
    {
     "name": "stdout",
     "output_type": "stream",
     "text": [
      "SCD Type 2: Historical data saved.\n"
     ]
    }
   ],
   "source": [
    "# Fetch current record\n",
    "cursor.execute(\"SELECT * FROM Customers WHERE CustomerID = ?\", (101,))\n",
    "row = cursor.fetchone()\n",
    "# Mark previous as history\n",
    "cursor.execute(\"\"\"\n",
    "    INSERT INTO Customers_History (\n",
    "        CustomerID, Name, Email, Membership, Region, JoinDate, StartDate, EndDate, IsCurrent\n",
    "    )\n",
    "    VALUES (?, ?, ?, ?, ?, ?, ?, ?, ?)\n",
    "\"\"\", (\n",
    "    row.CustomerID, row.Name, row.Email, row.Membership, row.Region, row.JoinDate,\n",
    "    datetime.now().date(), datetime.now().date(), 0\n",
    "))\n",
    "\n",
    "# Update main table\n",
    "cursor.execute(\"\"\"\n",
    "    UPDATE Customers\n",
    "    SET Name = ?, Email = ?, Membership = ?\n",
    "    WHERE CustomerID = ?\n",
    "\"\"\", ('Deepak K Updated', 'deepak_updated@example.com', 'Diamond', 101))\n",
    "conn.commit()\n",
    "print(\"SCD Type 2: Historical data saved.\")\n"
   ]
  },
  {
   "cell_type": "markdown",
   "id": "5507fa62",
   "metadata": {},
   "source": [
    "SCD Type 3 — Store partial history"
   ]
  },
  {
   "cell_type": "code",
   "execution_count": 14,
   "id": "2ed37d02",
   "metadata": {},
   "outputs": [
    {
     "name": "stdout",
     "output_type": "stream",
     "text": [
      "SCD Type 3: Previous Region stored.\n"
     ]
    }
   ],
   "source": [
    "cursor.execute(\"\"\"\n",
    "IF COL_LENGTH('Customers', 'PreviousRegion') IS NULL\n",
    "    ALTER TABLE Customers ADD PreviousRegion NVARCHAR(50)\n",
    "\"\"\")\n",
    "conn.commit()\n",
    "\n",
    "# Save current Region as PreviousRegion and update Region\n",
    "cursor.execute(\"\"\"\n",
    "    UPDATE Customers\n",
    "    SET PreviousRegion = Region,\n",
    "        Region = ?\n",
    "    WHERE CustomerID = ?\n",
    "\"\"\", ('North-East', 101))\n",
    "conn.commit()\n",
    "print(\"SCD Type 3: Previous Region stored.\")\n"
   ]
  },
  {
   "cell_type": "code",
   "execution_count": 15,
   "id": "35f9d52a",
   "metadata": {},
   "outputs": [
    {
     "name": "stdout",
     "output_type": "stream",
     "text": [
      "SCD Type 4: Separate history logged.\n"
     ]
    }
   ],
   "source": [
    "cursor.execute(\"\"\"\n",
    "IF OBJECT_ID('Customers_Static') IS NULL\n",
    "CREATE TABLE Customers_Static (\n",
    "    CustomerID INT PRIMARY KEY,\n",
    "    Name NVARCHAR(100),\n",
    "    Email NVARCHAR(100),\n",
    "    Membership NVARCHAR(50),\n",
    "    Region NVARCHAR(50),\n",
    "    JoinDate DATE\n",
    ")\n",
    "\"\"\")\n",
    "cursor.execute(\"\"\"\n",
    "IF OBJECT_ID('Customers_History_T4') IS NULL\n",
    "CREATE TABLE Customers_History_T4 (\n",
    "    HistoryID INT IDENTITY(1,1) PRIMARY KEY,\n",
    "    CustomerID INT,\n",
    "    ChangeDate DATE,\n",
    "    ChangedField NVARCHAR(50),\n",
    "    OldValue NVARCHAR(100),\n",
    "    NewValue NVARCHAR(100)\n",
    ")\n",
    "\"\"\")\n",
    "conn.commit()\n",
    "\n",
    "# Store changes in history table\n",
    "cursor.execute(\"\"\"\n",
    "    INSERT INTO Customers_History_T4 (CustomerID, ChangeDate, ChangedField, OldValue, NewValue)\n",
    "    VALUES (?, ?, ?, ?, ?)\n",
    "\"\"\", (101, datetime.now().date(), 'Membership', 'Diamond', 'Silver'))\n",
    "conn.commit()\n",
    "\n",
    "# Update static table\n",
    "cursor.execute(\"\"\"\n",
    "    UPDATE Customers_Static\n",
    "    SET Membership = ?\n",
    "    WHERE CustomerID = ?\n",
    "\"\"\", ('Silver', 101))\n",
    "conn.commit()\n",
    "print(\"SCD Type 4: Separate history logged.\")\n"
   ]
  },
  {
   "cell_type": "code",
   "execution_count": null,
   "id": "48798057",
   "metadata": {},
   "outputs": [
    {
     "name": "stdout",
     "output_type": "stream",
     "text": [
      "SCD Type 6: Hybrid change recorded.\n"
     ]
    }
   ],
   "source": [
    "cursor.execute(\"\"\"\n",
    "IF OBJECT_ID('Customers_Hybrid', 'U') IS NULL\n",
    "CREATE TABLE Customers_Hybrid (\n",
    "    CustomerID INT,\n",
    "    Name NVARCHAR(100),\n",
    "    Email NVARCHAR(100),\n",
    "    Membership NVARCHAR(50),\n",
    "    Region NVARCHAR(50),\n",
    "    PreviousRegion NVARCHAR(50),\n",
    "    JoinDate DATE,\n",
    "    StartDate DATE,\n",
    "    EndDate DATE,\n",
    "    IsCurrent BIT,\n",
    "    Version INT\n",
    ")\n",
    "\"\"\")\n",
    "conn.commit()\n",
    "\n",
    "# Insert new versioned record, mark old as not current\n",
    "cursor.execute(\"UPDATE Customers_Hybrid SET IsCurrent = 0, EndDate = ? WHERE CustomerID = ? AND IsCurrent = 1\",\n",
    "               (datetime.now().date(), 101))\n",
    "cursor.execute(\"\"\"\n",
    "    INSERT INTO Customers_Hybrid (\n",
    "        CustomerID, Name, Email, Membership, Region, PreviousRegion,\n",
    "        JoinDate, StartDate, EndDate, IsCurrent, Version\n",
    "    )\n",
    "    VALUES (?, ?, ?, ?, ?, ?, ?, ?, ?, ?, ?)\n",
    "\"\"\", (\n",
    "    101, 'Deepak Hybrid', 'deepak@hybrid.com', 'Gold', 'West', 'North-East',\n",
    "    datetime.strptime(\"2023-01-01\", \"%Y-%m-%d\").date(), datetime.now().date(),\n",
    "    None, 1, 2\n",
    "))\n",
    "conn.commit()\n",
    "print(\"SCD Type 6: Hybrid change recorded.\")\n"
   ]
  },
  {
   "cell_type": "markdown",
   "id": "484c0a9b",
   "metadata": {},
   "source": [
    "<!-- sql code\n",
    "CREATE TRIGGER trg_BlockJoinDateChange\n",
    "ON Customers\n",
    "INSTEAD OF UPDATE\n",
    "AS\n",
    "BEGIN\n",
    "    IF UPDATE(JoinDate)\n",
    "    BEGIN\n",
    "        RAISERROR('JoinDate cannot be changed', 16, 1);\n",
    "        ROLLBACK TRANSACTION;\n",
    "        RETURN;\n",
    "    END\n",
    "    UPDATE Customers\n",
    "    SET Name = inserted.Name,\n",
    "        Email = inserted.Email,\n",
    "        Membership = inserted.Membership,\n",
    "        Region = inserted.Region\n",
    "    FROM inserted\n",
    "    WHERE Customers.CustomerID = inserted.CustomerID;\n",
    "END -->"
   ]
  },
  {
   "cell_type": "markdown",
   "id": "2f220fd9",
   "metadata": {},
   "source": []
  }
 ],
 "metadata": {
  "kernelspec": {
   "display_name": "Python 3",
   "language": "python",
   "name": "python3"
  },
  "language_info": {
   "codemirror_mode": {
    "name": "ipython",
    "version": 3
   },
   "file_extension": ".py",
   "mimetype": "text/x-python",
   "name": "python",
   "nbconvert_exporter": "python",
   "pygments_lexer": "ipython3",
   "version": "3.11.9"
  }
 },
 "nbformat": 4,
 "nbformat_minor": 5
}
